{
 "cells": [
  {
   "cell_type": "markdown",
   "id": "968f330a-2c0f-4e18-9bfa-33ae163667da",
   "metadata": {},
   "source": [
    "### Install kagglehub to download data from Kaggle"
   ]
  },
  {
   "cell_type": "code",
   "execution_count": 1,
   "id": "7206ee04-5b36-4e49-a070-1caf3c1d8198",
   "metadata": {},
   "outputs": [],
   "source": [
    "!pip install kagglehub > /dev/null 2>&1"
   ]
  },
  {
   "cell_type": "markdown",
   "id": "8e709e97-bb75-4530-99ec-505be9a09c47",
   "metadata": {},
   "source": [
    "### Download Kaggle data"
   ]
  },
  {
   "cell_type": "code",
   "execution_count": 2,
   "id": "2e5a85a4-39de-48a5-a7a9-1556f89cb926",
   "metadata": {},
   "outputs": [
    {
     "name": "stdout",
     "output_type": "stream",
     "text": [
      "Downloading from https://www.kaggle.com/api/v1/datasets/download/jinquan/cc-sample-data?dataset_version_number=1...\n"
     ]
    },
    {
     "name": "stderr",
     "output_type": "stream",
     "text": [
      "100%|██████████| 210M/210M [06:21<00:00, 579kB/s]    "
     ]
    },
    {
     "name": "stdout",
     "output_type": "stream",
     "text": [
      "Extracting files...\n"
     ]
    },
    {
     "name": "stderr",
     "output_type": "stream",
     "text": [
      "\n"
     ]
    },
    {
     "name": "stdout",
     "output_type": "stream",
     "text": [
      "Path to file: /home/jovyan/.cache/kagglehub/datasets/jinquan/cc-sample-data/versions/1\n"
     ]
    }
   ],
   "source": [
    "import kagglehub\n",
    "import shutil\n",
    "import os\n",
    "\n",
    "path = kagglehub.dataset_download(\"jinquan/cc-sample-data\", force_download=True)\n",
    "\n",
    "print(\"Path to file:\", path)"
   ]
  },
  {
   "cell_type": "code",
   "execution_count": 3,
   "id": "c363f9a8-a82c-474a-ab68-a9f0892b4cbb",
   "metadata": {},
   "outputs": [],
   "source": [
    "for file in os.listdir(path):\n",
    "    shutil.move(f'{path}/{file}', f'/home/jovyan/work/kaggle/data/{file}')"
   ]
  },
  {
   "cell_type": "markdown",
   "id": "c5b80e30-f36f-427b-a565-307315f4c79a",
   "metadata": {},
   "source": [
    "### Import libraries"
   ]
  },
  {
   "cell_type": "code",
   "execution_count": 4,
   "id": "044604a3-5c09-4a02-b31c-729e04876d18",
   "metadata": {},
   "outputs": [],
   "source": [
    "from pyspark.sql import SparkSession\n",
    "from pyspark.sql.types import StructField, StructType, IntegerType, StringType, BooleanType, DecimalType\n",
    "from pyspark.sql.functions import col, from_unixtime, from_json, to_date, to_timestamp, split, regexp_replace, trim, split, from_utc_timestamp, date_format, udf, sum, md5, concat_ws, replace, broadcast, pandas_udf\n",
    "from pyspark import StorageLevel"
   ]
  },
  {
   "cell_type": "markdown",
   "id": "67645b98-6e52-4ef6-9b88-41f9c5a30ad5",
   "metadata": {},
   "source": [
    "### Create Spark session and define schemas for the JSON data"
   ]
  },
  {
   "cell_type": "code",
   "execution_count": 5,
   "id": "1f74b810-7d0c-4fa4-83da-d5d03723e2cf",
   "metadata": {},
   "outputs": [],
   "source": [
    "spark = SparkSession.builder \\\n",
    "    .appName(\"cc_trans\") \\\n",
    "    .config(\"spark.ui.port\", \"4040\") \\\n",
    "    .config(\"spark.driver.memory\", \"4g\") \\\n",
    "    .config(\"spark.executor.memory\", \"3g\") \\\n",
    "    .config(\"spark.executor.cores\", \"3\") \\\n",
    "    .config(\"spark.sql.shuffle.partitions\", \"24\") \\\n",
    "    .config(\"spark.network.timeout\", \"600s\") \\\n",
    "    .config(\"spark.sql.parquet.datetimeRebaseModeInWrite\", \"CORRECTED\") \\\n",
    "    .config(\"spark.sql.parquet.int96RebaseModeInWrite\", \"CORRECTED\") \\\n",
    "    .config(\"spark.sql.legacy.timeParserPolicy\", \"CORRECTED\") \\\n",
    "    .config(\"mapreduce.fileoutputcommitter.marksuccessfuljobs\", \"false\") \\\n",
    "    .config(\"spark.sql.parquet.compression.codec\", \"zstd\") \\\n",
    "    .getOrCreate()\n",
    "\n",
    "schema = StructType([\n",
    "    StructField(\"Unnamed: 0\", StringType()),\n",
    "    StructField(\"trans_date_trans_time\", StringType()),\n",
    "    StructField(\"cc_bic\", StringType()),\n",
    "    StructField(\"cc_num\", StringType()),\n",
    "    StructField(\"merchant\", StringType()),\n",
    "    StructField(\"category\", StringType()),\n",
    "    StructField(\"amt\", DecimalType(10, 2)),\n",
    "    StructField(\"personal_detail\", StringType()),\n",
    "    StructField(\"trans_num\", StringType()),\n",
    "    StructField(\"merch_lat\", DecimalType(9, 6)),\n",
    "    StructField(\"merch_long\", DecimalType(9, 6)),\n",
    "    StructField(\"is_fraud\", StringType()),\n",
    "    StructField(\"merch_zipcode\", StringType()),\n",
    "    StructField(\"merch_eff_time\", StringType()),\n",
    "    StructField(\"merch_last_update_time\", StringType())\n",
    "])\n",
    "\n",
    "personal_detail_schema = StructType([\n",
    "    StructField(\"person_name\", StringType()),\n",
    "    StructField(\"gender\", StringType()),\n",
    "    StructField(\"address\", StringType()),\n",
    "    StructField(\"lat\", DecimalType(7, 4)),\n",
    "    StructField(\"long\", DecimalType(7, 4)),\n",
    "    StructField(\"city_pop\", StringType()),\n",
    "    StructField(\"job\", StringType()),\n",
    "    StructField(\"dob\", StringType()),\n",
    "])\n",
    "\n",
    "address_schema = StructType([\n",
    "    StructField(\"street\", StringType()),\n",
    "    StructField(\"city\", StringType()),\n",
    "    StructField(\"state\", StringType()),\n",
    "    StructField(\"zip\", StringType())\n",
    "])"
   ]
  },
  {
   "cell_type": "markdown",
   "id": "336889be-b748-4abb-9cc6-789c10f8262a",
   "metadata": {},
   "source": [
    "### Load JSON file into dataframe"
   ]
  },
  {
   "cell_type": "code",
   "execution_count": 6,
   "id": "2e9bfca5-fd05-46b5-9b4f-55f855b210d1",
   "metadata": {},
   "outputs": [
    {
     "data": {
      "text/plain": [
       "1296675"
      ]
     },
     "execution_count": 6,
     "metadata": {},
     "output_type": "execute_result"
    }
   ],
   "source": [
    "df = spark.read.format(\"json\").schema(schema).load(f\"/home/jovyan/work/kaggle/data/cc_sample_transaction.json\")\n",
    "df.persist(StorageLevel.MEMORY_AND_DISK)\n",
    "df.count()"
   ]
  },
  {
   "cell_type": "code",
   "execution_count": 7,
   "id": "c735c9ca-5e29-4284-9658-0d1cbbbc341f",
   "metadata": {},
   "outputs": [
    {
     "name": "stdout",
     "output_type": "stream",
     "text": [
      "-RECORD 0-------------------------------------------------------------------------------------------------------------------------------------------------------------------------------------------------------------------------------------------------------------------------------------------------------\n",
      " Unnamed: 0             | 0                                                                                                                                                                                                                                                                                     \n",
      " trans_date_trans_time  | 2019-01-01 00:00:18                                                                                                                                                                                                                                                                   \n",
      " cc_bic                 | CITIUS33CHI                                                                                                                                                                                                                                                                           \n",
      " cc_num                 | 2703186189652095                                                                                                                                                                                                                                                                      \n",
      " merchant               | fraud_Rippin, Kub and Mann                                                                                                                                                                                                                                                            \n",
      " category               | misc_net                                                                                                                                                                                                                                                                              \n",
      " amt                    | 4.97                                                                                                                                                                                                                                                                                  \n",
      " personal_detail        | {\"person_name\":\"Jennifer,Banks,eeeee\",\"gender\":\"F\",\"address\":\"{\\\"street\\\":\\\"561 Perry Cove\\\",\\\"city\\\":\\\"Moravian Falls\\\",\\\"state\\\":\\\"NC\\\",\\\"zip\\\":\\\"28654\\\"}\",\"lat\":\"36.0788\",\"long\":\"-81.1781\",\"city_pop\":\"3495\",\"job\":\"Psychologist, counselling\",\"dob\":\"1988-03-09\"}               \n",
      " trans_num              | 0b242abb623afc578575680df30655b9                                                                                                                                                                                                                                                      \n",
      " merch_lat              | 36.011293                                                                                                                                                                                                                                                                             \n",
      " merch_long             | -82.048315                                                                                                                                                                                                                                                                            \n",
      " is_fraud               | 0                                                                                                                                                                                                                                                                                     \n",
      " merch_zipcode          | 28705                                                                                                                                                                                                                                                                                 \n",
      " merch_eff_time         | 1325376018798532                                                                                                                                                                                                                                                                      \n",
      " merch_last_update_time | 1325376018666                                                                                                                                                                                                                                                                         \n",
      "-RECORD 1-------------------------------------------------------------------------------------------------------------------------------------------------------------------------------------------------------------------------------------------------------------------------------------------------------\n",
      " Unnamed: 0             | 1                                                                                                                                                                                                                                                                                     \n",
      " trans_date_trans_time  | 2019-01-01 00:00:44                                                                                                                                                                                                                                                                   \n",
      " cc_bic                 | ADMDUS41                                                                                                                                                                                                                                                                              \n",
      " cc_num                 | 630423337322                                                                                                                                                                                                                                                                          \n",
      " merchant               | fraud_Heller, Gutmann and Zieme                                                                                                                                                                                                                                                       \n",
      " category               | grocery_pos                                                                                                                                                                                                                                                                           \n",
      " amt                    | 107.23                                                                                                                                                                                                                                                                                \n",
      " personal_detail        | {\"person_name\":\"Stephanie,Gill,eeeee\",\"gender\":\"F\",\"address\":\"{\\\"street\\\":\\\"43039 Riley Greens Suite 393\\\",\\\"city\\\":\\\"Orient\\\",\\\"state\\\":\\\"WA\\\",\\\"zip\\\":\\\"99160\\\"}\",\"lat\":\"48.8878\",\"long\":\"-118.2105\",\"city_pop\":\"149\",\"job\":\"Special educational needs teacher\",\"dob\":\"1978-06-21\"} \n",
      " trans_num              | 1f76529f8574734946361c461b024d99                                                                                                                                                                                                                                                      \n",
      " merch_lat              | 49.159047                                                                                                                                                                                                                                                                             \n",
      " merch_long             | -118.186462                                                                                                                                                                                                                                                                           \n",
      " is_fraud               | 0                                                                                                                                                                                                                                                                                     \n",
      " merch_zipcode          | NULL                                                                                                                                                                                                                                                                                  \n",
      " merch_eff_time         | 1325376044867960                                                                                                                                                                                                                                                                      \n",
      " merch_last_update_time | 132537604479                                                                                                                                                                                                                                                                          \n",
      "only showing top 2 rows\n",
      "\n"
     ]
    }
   ],
   "source": [
    "df.show(2, truncate=False, vertical=True)"
   ]
  },
  {
   "cell_type": "code",
   "execution_count": 8,
   "id": "6454f30e-55d7-488c-8cde-30807e3a2b44",
   "metadata": {},
   "outputs": [
    {
     "name": "stdout",
     "output_type": "stream",
     "text": [
      "root\n",
      " |-- Unnamed: 0: string (nullable = true)\n",
      " |-- trans_date_trans_time: string (nullable = true)\n",
      " |-- cc_bic: string (nullable = true)\n",
      " |-- cc_num: string (nullable = true)\n",
      " |-- merchant: string (nullable = true)\n",
      " |-- category: string (nullable = true)\n",
      " |-- amt: decimal(10,2) (nullable = true)\n",
      " |-- personal_detail: string (nullable = true)\n",
      " |-- trans_num: string (nullable = true)\n",
      " |-- merch_lat: decimal(9,6) (nullable = true)\n",
      " |-- merch_long: decimal(9,6) (nullable = true)\n",
      " |-- is_fraud: string (nullable = true)\n",
      " |-- merch_zipcode: string (nullable = true)\n",
      " |-- merch_eff_time: string (nullable = true)\n",
      " |-- merch_last_update_time: string (nullable = true)\n",
      "\n"
     ]
    },
    {
     "data": {
      "text/plain": [
       "DataFrame[Unnamed: 0: string, trans_date_trans_time: string, cc_bic: string, cc_num: string, merchant: string, category: string, amt: decimal(10,2), personal_detail: string, trans_num: string, merch_lat: decimal(9,6), merch_long: decimal(9,6), is_fraud: string, merch_zipcode: string, merch_eff_time: string, merch_last_update_time: string]"
      ]
     },
     "execution_count": 8,
     "metadata": {},
     "output_type": "execute_result"
    }
   ],
   "source": [
    "df.printSchema()\n",
    "df.unpersist()"
   ]
  },
  {
   "cell_type": "markdown",
   "id": "5a06d08f-8efa-4f58-9c79-89a80971bd6c",
   "metadata": {},
   "source": [
    "### Handle nested JSON in _personal_details_ column"
   ]
  },
  {
   "cell_type": "code",
   "execution_count": 9,
   "id": "06a9858e-a1c7-4694-a2c9-5a3b6b25a6d1",
   "metadata": {},
   "outputs": [],
   "source": [
    "df = df.withColumn('personal_detail', from_json(col('personal_detail'), personal_detail_schema))\n",
    "df = df.withColumn('address', from_json(col('personal_detail.address'), address_schema))\n",
    "\n",
    "df = df.select(\n",
    "    col(\"Unnamed: 0\"),\n",
    "    col(\"trans_date_trans_time\"),\n",
    "    col(\"cc_num\"),\n",
    "    col(\"merchant\"),\n",
    "    col(\"category\"),\n",
    "    col(\"amt\"),\n",
    "    col(\"personal_detail.person_name\").alias(\"person_name\"),\n",
    "    col(\"personal_detail.gender\").alias(\"gender\"),\n",
    "    col(\"address.street\").alias(\"street\"),\n",
    "    col(\"address.city\").alias(\"city\"),\n",
    "    col(\"address.state\").alias(\"state\"),\n",
    "    col(\"address.zip\").alias(\"zip\"),\n",
    "    col(\"personal_detail.lat\").alias(\"lat\"),\n",
    "    col(\"personal_detail.long\").alias(\"long\"),\n",
    "    col(\"personal_detail.city_pop\").alias(\"city_pop\"),\n",
    "    col(\"personal_detail.job\").alias(\"job\"),\n",
    "    col(\"personal_detail.dob\").alias(\"dob\"),\n",
    "    col(\"trans_num\"),\n",
    "    col(\"merch_lat\"),\n",
    "    col(\"merch_long\"),\n",
    "    col(\"is_fraud\"),\n",
    "    col(\"merch_zipcode\"),\n",
    "    col(\"merch_eff_time\"),\n",
    "    col(\"merch_last_update_time\"),\n",
    "    col(\"cc_bic\")\n",
    ")"
   ]
  },
  {
   "cell_type": "markdown",
   "id": "59e3f1d8-c7a7-4170-927c-e6b91e36aef6",
   "metadata": {},
   "source": [
    "### Change data types for better performance and memory usage"
   ]
  },
  {
   "cell_type": "code",
   "execution_count": 10,
   "id": "987c7b26-83e3-4ce1-beb7-a2286244f7a4",
   "metadata": {},
   "outputs": [],
   "source": [
    "df = df.withColumn(\"Unnamed: 0\", col(\"Unnamed: 0\").cast(IntegerType()))\n",
    "df = df.withColumn(\"is_fraud\", col(\"is_fraud\").cast(BooleanType()))\n",
    "df = df.withColumn(\"city_pop\", col(\"city_pop\").cast(IntegerType()))\n",
    "df = df.withColumn('dob', to_date('dob', 'yyyy-MM-dd'))"
   ]
  },
  {
   "cell_type": "markdown",
   "id": "d6211842-015a-47a5-bf4f-f79bbf9c51f5",
   "metadata": {},
   "source": [
    "### Convert to timestamp data type, then convert to UTC +8 timezone\n",
    "* _merch_eff_time_ and _merch_last_update_time_ have values in Unix timestamp\n",
    "* 13-digit timestamp represents milliseconds and 16-digit timestamp represents microseconds"
   ]
  },
  {
   "cell_type": "code",
   "execution_count": 11,
   "id": "765d1c2b-3b62-4fc7-8ce2-cd043218bccd",
   "metadata": {},
   "outputs": [],
   "source": [
    "df = df.withColumn('trans_date_trans_time', to_timestamp('trans_date_trans_time', 'yyyy-MM-dd HH:mm:ss')) \\\n",
    "    .withColumn(\"trans_date_trans_time\", from_utc_timestamp(col(\"trans_date_trans_time\"), \"Asia/Kuala_Lumpur\"))\n",
    "\n",
    "df = df.withColumn(\"merch_eff_time\", to_timestamp(from_unixtime(col(\"merch_eff_time\") / 1000000), 'yyyy-MM-dd HH:mm:ss')) \\\n",
    "    .withColumn(\"merch_eff_time\", from_utc_timestamp(col(\"merch_eff_time\"), \"Asia/Kuala_Lumpur\"))\n",
    "\n",
    "df = df.withColumn(\"merch_last_update_time\", to_timestamp(from_unixtime(col(\"merch_last_update_time\") / 1000), 'yyyy-MM-dd HH:mm:ss')) \\\n",
    "    .withColumn(\"merch_last_update_time\", from_utc_timestamp(col(\"merch_last_update_time\"), \"Asia/Kuala_Lumpur\"))"
   ]
  },
  {
   "cell_type": "markdown",
   "id": "9c69052c-1a05-4890-a3bc-28d789c48966",
   "metadata": {},
   "source": [
    "### Split _person_name_ column into _first_name_ and _last_name_, and data cleaning"
   ]
  },
  {
   "cell_type": "code",
   "execution_count": 12,
   "id": "b224279a-864c-43ad-93ff-7c02be734c01",
   "metadata": {},
   "outputs": [
    {
     "data": {
      "text/plain": [
       "DataFrame[Unnamed: 0: int, trans_date_trans_time: timestamp, cc_num: string, merchant: string, category: string, amt: decimal(10,2), person_name: string, gender: string, street: string, city: string, state: string, zip: string, lat: decimal(7,4), long: decimal(7,4), city_pop: int, job: string, dob: date, trans_num: string, merch_lat: decimal(9,6), merch_long: decimal(9,6), is_fraud: boolean, merch_zipcode: string, merch_eff_time: timestamp, merch_last_update_time: timestamp, cc_bic: string, first: string, last: string]"
      ]
     },
     "execution_count": 12,
     "metadata": {},
     "output_type": "execute_result"
    }
   ],
   "source": [
    "df = df.withColumn(\"first\", split(col(\"person_name\"), \",\")[0]) \\\n",
    "       .withColumn(\"last\", split(col(\"person_name\"), \",\")[1])\n",
    "\n",
    "df.persist(StorageLevel.MEMORY_AND_DISK)"
   ]
  },
  {
   "cell_type": "code",
   "execution_count": 13,
   "id": "e571ac82-4441-4b21-bbb1-b5ed53c05221",
   "metadata": {},
   "outputs": [
    {
     "name": "stdout",
     "output_type": "stream",
     "text": [
      "+--------------+--------------+----+\n",
      "|   person_name|         first|last|\n",
      "+--------------+--------------+----+\n",
      "|Edward@Sanchez|Edward@Sanchez|NULL|\n",
      "+--------------+--------------+----+\n",
      "only showing top 1 row\n",
      "\n"
     ]
    }
   ],
   "source": [
    "df.filter(col(\"first\").isNull() | col(\"last\").isNull() | (col(\"first\")=='') | (col(\"last\")=='') | (col(\"first\")==' ') | (col(\"last\")==' ')).select(col(\"person_name\"), col(\"first\"), col(\"last\")).show(1)"
   ]
  },
  {
   "cell_type": "code",
   "execution_count": 14,
   "id": "45778c3f-4b7a-4833-a36d-6ab230e6e49f",
   "metadata": {},
   "outputs": [],
   "source": [
    "df = df.withColumn(\"first\", split(col(\"person_name\"), \"[,@]\")[0]) \\\n",
    "       .withColumn(\"last\", split(col(\"person_name\"), \"[,@]\")[1])"
   ]
  },
  {
   "cell_type": "code",
   "execution_count": 15,
   "id": "c1ff7364-8511-4cce-8ff2-8fe5ec9bcee7",
   "metadata": {},
   "outputs": [
    {
     "name": "stdout",
     "output_type": "stream",
     "text": [
      "+--------------------+------+----+\n",
      "|         person_name| first|last|\n",
      "+--------------------+------+----+\n",
      "|Kelsey, , Richard...|Kelsey|    |\n",
      "+--------------------+------+----+\n",
      "only showing top 1 row\n",
      "\n"
     ]
    }
   ],
   "source": [
    "df.filter(col(\"first\").isNull() | col(\"last\").isNull() | (col(\"first\")=='') | (col(\"last\")=='') | (col(\"first\")==' ') | (col(\"last\")==' ')).select(col(\"person_name\"), col(\"first\"), col(\"last\")).show(1)"
   ]
  },
  {
   "cell_type": "markdown",
   "id": "4eb99b2c-be4e-4d83-b574-a801b29437bf",
   "metadata": {},
   "source": [
    "* _person_name_ also has other types of delimiter, not only _commas_\n",
    "* Assuming that first name and last name can only contain alphabetic characters\n",
    "* Delimiter can be repetitive with or without _space_"
   ]
  },
  {
   "cell_type": "code",
   "execution_count": 16,
   "id": "94df2766-ad12-42ad-94fd-f06ce7543b9e",
   "metadata": {},
   "outputs": [],
   "source": [
    "df = df.withColumn(\"person_name\", regexp_replace(col(\"person_name\"), r\"[^A-Za-z]+\", \" \")) \\\n",
    "        .withColumn(\"person_name\", trim(regexp_replace(col(\"person_name\"), r\"\\s+\", \" \"))) \\\n",
    "        .withColumn(\"first\", split(col(\"person_name\"), \" \")[0]) \\\n",
    "        .withColumn(\"last\", split(col(\"person_name\"), \" \")[1])"
   ]
  },
  {
   "cell_type": "code",
   "execution_count": 17,
   "id": "b93bdfab-1dc7-4239-b334-c7726d43c174",
   "metadata": {},
   "outputs": [
    {
     "name": "stdout",
     "output_type": "stream",
     "text": [
      "+-----------+-----+----+\n",
      "|person_name|first|last|\n",
      "+-----------+-----+----+\n",
      "+-----------+-----+----+\n",
      "\n"
     ]
    },
    {
     "data": {
      "text/plain": [
       "DataFrame[Unnamed: 0: int, trans_date_trans_time: timestamp, cc_num: string, merchant: string, category: string, amt: decimal(10,2), person_name: string, gender: string, street: string, city: string, state: string, zip: string, lat: decimal(7,4), long: decimal(7,4), city_pop: int, job: string, dob: date, trans_num: string, merch_lat: decimal(9,6), merch_long: decimal(9,6), is_fraud: boolean, merch_zipcode: string, merch_eff_time: timestamp, merch_last_update_time: timestamp, cc_bic: string, first: string, last: string]"
      ]
     },
     "execution_count": 17,
     "metadata": {},
     "output_type": "execute_result"
    }
   ],
   "source": [
    "df.filter(col(\"first\").isNull() | col(\"last\").isNull() | (col(\"first\")=='') | (col(\"last\")=='')).select(col(\"person_name\"), col(\"first\"), col(\"last\")).show(1)\n",
    "df.unpersist()"
   ]
  },
  {
   "cell_type": "markdown",
   "id": "066f731d-8451-4fdf-8a8b-8709824ba31a",
   "metadata": {},
   "source": [
    "### Mask sensitive PII data"
   ]
  },
  {
   "cell_type": "code",
   "execution_count": 18,
   "id": "408cde37-77e5-4903-b8ee-7e3392798387",
   "metadata": {},
   "outputs": [],
   "source": [
    "@pandas_udf(StringType())\n",
    "def hash_pii(series: pd.Series) -> pd.Series:\n",
    "    return series.apply(lambda v: hashlib.sha256(v.encode(\"utf‑8\")).hexdigest() if v is not None else None)"
   ]
  },
  {
   "cell_type": "code",
   "execution_count": 19,
   "id": "6c57ef26-99b3-4c81-9465-31c44bbbe69a",
   "metadata": {},
   "outputs": [
    {
     "data": {
      "text/plain": [
       "DataFrame[Unnamed: 0: int, trans_date_trans_time: timestamp, pii_cc_num: string, merchant: string, category: string, amt: decimal(10,2), person_name: string, gender: string, street: string, city: string, state: string, zip: string, lat: decimal(7,4), long: decimal(7,4), city_pop: int, job: string, dob: date, trans_num: string, merch_lat: decimal(9,6), merch_long: decimal(9,6), is_fraud: boolean, merch_zipcode: string, merch_eff_time: timestamp, merch_last_update_time: timestamp, cc_bic: string, first: string, last: string, cc_num: string]"
      ]
     },
     "execution_count": 19,
     "metadata": {},
     "output_type": "execute_result"
    }
   ],
   "source": [
    "df = df.withColumnRenamed('cc_num', 'pii_cc_num')\n",
    "df = df.withColumn('cc_num', hash_pii(\"pii_cc_num\"))\n",
    "df.persist(StorageLevel.MEMORY_AND_DISK)"
   ]
  },
  {
   "cell_type": "code",
   "execution_count": 20,
   "id": "80e5ba1d-87a9-4c80-b69d-fdc4b7552290",
   "metadata": {},
   "outputs": [
    {
     "name": "stdout",
     "output_type": "stream",
     "text": [
      "-RECORD 0----------------------------------------------------------------------------------\n",
      " Unnamed: 0             | 0                                                                \n",
      " trans_date_trans_time  | 2019-01-01 08:00:18                                              \n",
      " pii_cc_num             | 2703186189652095                                                 \n",
      " merchant               | fraud_Rippin, Kub and Mann                                       \n",
      " category               | misc_net                                                         \n",
      " amt                    | 4.97                                                             \n",
      " person_name            | Jennifer Banks eeeee                                             \n",
      " gender                 | F                                                                \n",
      " street                 | 561 Perry Cove                                                   \n",
      " city                   | Moravian Falls                                                   \n",
      " state                  | NC                                                               \n",
      " zip                    | 28654                                                            \n",
      " lat                    | 36.0788                                                          \n",
      " long                   | -81.1781                                                         \n",
      " city_pop               | 3495                                                             \n",
      " job                    | Psychologist, counselling                                        \n",
      " dob                    | 1988-03-09                                                       \n",
      " trans_num              | 0b242abb623afc578575680df30655b9                                 \n",
      " merch_lat              | 36.011293                                                        \n",
      " merch_long             | -82.048315                                                       \n",
      " is_fraud               | false                                                            \n",
      " merch_zipcode          | 28705                                                            \n",
      " merch_eff_time         | 2012-01-01 08:00:18                                              \n",
      " merch_last_update_time | 2012-01-01 08:00:18                                              \n",
      " cc_bic                 | CITIUS33CHI                                                      \n",
      " first                  | Jennifer                                                         \n",
      " last                   | Banks                                                            \n",
      " cc_num                 | 80923ef01336409c8bfd3f8f5689196742e2c9871c0275e6cf5733d0facfd843 \n",
      "only showing top 1 row\n",
      "\n"
     ]
    }
   ],
   "source": [
    "df.show(1, truncate=False, vertical=True)"
   ]
  },
  {
   "cell_type": "markdown",
   "id": "9c355fa1-dd84-437c-8499-25a6634f9410",
   "metadata": {},
   "source": [
    "* If you are using Athena, Trino or any other tools that will need to point to S3 bucket to create tables, you can define the table structure to use the masked column instead of the original one"
   ]
  },
  {
   "cell_type": "markdown",
   "id": "5b6e27c8-417e-4c38-b206-125b2285a48f",
   "metadata": {},
   "source": [
    "### Check for columns that have null value"
   ]
  },
  {
   "cell_type": "code",
   "execution_count": 21,
   "id": "18c9037d-4b22-47df-aafe-2152c74edf67",
   "metadata": {},
   "outputs": [
    {
     "name": "stdout",
     "output_type": "stream",
     "text": [
      "Columns with null values:\n",
      " ['merch_zipcode']\n"
     ]
    }
   ],
   "source": [
    "null_counts = df.select([sum(col(c).isNull().cast(\"int\")).alias(c) for c in df.columns])\n",
    "null_columns = [c for c in df.columns if null_counts.collect()[0][c] > 0]\n",
    "\n",
    "print(\"Columns with null values:\\n\", null_columns)"
   ]
  },
  {
   "cell_type": "code",
   "execution_count": 22,
   "id": "77a2fd9e-b432-427f-bbfb-39e679468984",
   "metadata": {},
   "outputs": [
    {
     "name": "stdout",
     "output_type": "stream",
     "text": [
      "-RECORD 0----------------------------------------------------------------------------------\n",
      " Unnamed: 0             | 1                                                                \n",
      " trans_date_trans_time  | 2019-01-01 08:00:44                                              \n",
      " pii_cc_num             | 630423337322                                                     \n",
      " merchant               | fraud_Heller, Gutmann and Zieme                                  \n",
      " category               | grocery_pos                                                      \n",
      " amt                    | 107.23                                                           \n",
      " person_name            | Stephanie Gill eeeee                                             \n",
      " gender                 | F                                                                \n",
      " street                 | 43039 Riley Greens Suite 393                                     \n",
      " city                   | Orient                                                           \n",
      " state                  | WA                                                               \n",
      " zip                    | 99160                                                            \n",
      " lat                    | 48.8878                                                          \n",
      " long                   | -118.2105                                                        \n",
      " city_pop               | 149                                                              \n",
      " job                    | Special educational needs teacher                                \n",
      " dob                    | 1978-06-21                                                       \n",
      " trans_num              | 1f76529f8574734946361c461b024d99                                 \n",
      " merch_lat              | 49.159047                                                        \n",
      " merch_long             | -118.186462                                                      \n",
      " is_fraud               | false                                                            \n",
      " merch_zipcode          | NULL                                                             \n",
      " merch_eff_time         | 2012-01-01 08:00:44                                              \n",
      " merch_last_update_time | 1974-03-15 07:30:04                                              \n",
      " cc_bic                 | ADMDUS41                                                         \n",
      " first                  | Stephanie                                                        \n",
      " last                   | Gill                                                             \n",
      " cc_num                 | f80a8e60a9f15ecf1b85ba3370ff9c2dc0242190d8bbb71fd4f95d0675002ce7 \n",
      "only showing top 1 row\n",
      "\n"
     ]
    }
   ],
   "source": [
    "df.filter(col('merch_zipcode').isNull()).show(1, truncate=False, vertical=True)"
   ]
  },
  {
   "cell_type": "markdown",
   "id": "2d1009ab-1b7e-41b0-b672-90f9bf9397af",
   "metadata": {},
   "source": [
    "* These particular records do not have _merch_zipcode_ field in the source file. We can just ignore this."
   ]
  },
  {
   "cell_type": "markdown",
   "id": "efc0c908-bf86-4874-9c29-e874a8d14e15",
   "metadata": {},
   "source": [
    "### Handling duplicated records"
   ]
  },
  {
   "cell_type": "code",
   "execution_count": 23,
   "id": "a55610ca-db2e-4e1f-89ff-642b28801563",
   "metadata": {},
   "outputs": [
    {
     "name": "stdout",
     "output_type": "stream",
     "text": [
      "Total records before deduplication: 1296675\n"
     ]
    }
   ],
   "source": [
    "print('Total records before deduplication:', df.count())"
   ]
  },
  {
   "cell_type": "code",
   "execution_count": 24,
   "id": "405435a8-e3ce-4270-a72e-c324af36a774",
   "metadata": {},
   "outputs": [],
   "source": [
    "df = df.withColumn(\"md5\", md5(concat_ws(\"|\", *[col(c) for c in df.columns])))\n",
    "df = df.dropDuplicates([\"md5\"])\n",
    "df = df.drop(\"md5\")"
   ]
  },
  {
   "cell_type": "code",
   "execution_count": 25,
   "id": "3ad48160-6401-47d0-b6e0-6ed0a024dbd1",
   "metadata": {},
   "outputs": [
    {
     "name": "stdout",
     "output_type": "stream",
     "text": [
      "Total records after deduplication: 1296675\n"
     ]
    }
   ],
   "source": [
    "print('Total records after deduplication:', df.count())"
   ]
  },
  {
   "cell_type": "markdown",
   "id": "6f01d509-d1d5-4ff3-93ca-acd363516de6",
   "metadata": {},
   "source": [
    "### Merge table with a lookup table\n",
    "* Download external data from Kaggle to map state code to their full names\n",
    "* Use broadcast join method to reduce shuffle operations and speed up the join"
   ]
  },
  {
   "cell_type": "code",
   "execution_count": 26,
   "id": "76d5d9c2-43e6-459b-b5e3-7eddec6a71a7",
   "metadata": {},
   "outputs": [
    {
     "name": "stdout",
     "output_type": "stream",
     "text": [
      "Downloading from https://www.kaggle.com/api/v1/datasets/download/francescopettini/us-state-names-codes-and-abbreviations?dataset_version_number=2...\n"
     ]
    },
    {
     "name": "stderr",
     "output_type": "stream",
     "text": [
      "100%|██████████| 830/830 [00:00<00:00, 1.73MB/s]"
     ]
    },
    {
     "name": "stdout",
     "output_type": "stream",
     "text": [
      "Extracting files...\n",
      "Path to file: /home/jovyan/.cache/kagglehub/datasets/francescopettini/us-state-names-codes-and-abbreviations/versions/2\n"
     ]
    },
    {
     "name": "stderr",
     "output_type": "stream",
     "text": [
      "\n"
     ]
    }
   ],
   "source": [
    "path = kagglehub.dataset_download(\"francescopettini/us-state-names-codes-and-abbreviations\", force_download=True)\n",
    "\n",
    "print(\"Path to file:\", path)"
   ]
  },
  {
   "cell_type": "code",
   "execution_count": 27,
   "id": "5c3d6356-79c9-49c5-9311-74cf766814cc",
   "metadata": {},
   "outputs": [],
   "source": [
    "for file in os.listdir(path):\n",
    "    shutil.move(f'{path}/{file}', f'/home/jovyan/work/kaggle/{file}')"
   ]
  },
  {
   "cell_type": "code",
   "execution_count": 28,
   "id": "977bafae-cb92-459b-acdb-be3dc5e12505",
   "metadata": {},
   "outputs": [],
   "source": [
    "state_name = spark.read.csv(f\"/home/jovyan/work/kaggle/{file}\", header=True, inferSchema=True)"
   ]
  },
  {
   "cell_type": "code",
   "execution_count": 29,
   "id": "265e2182-18bc-4347-8b9d-d55c129ab6a4",
   "metadata": {},
   "outputs": [
    {
     "name": "stdout",
     "output_type": "stream",
     "text": [
      "+----+----------+------------+----------+\n",
      "|Code|     State|Abbreviation|Alpha code|\n",
      "+----+----------+------------+----------+\n",
      "|   1|   Alabama|        Ala.|        AL|\n",
      "|   2|    Alaska|        NULL|        AK|\n",
      "|   4|   Arizona|       Ariz.|        AZ|\n",
      "|   5|  Arkansas|        Ark.|        AR|\n",
      "|   6|California|      Calif.|        CA|\n",
      "+----+----------+------------+----------+\n",
      "only showing top 5 rows\n",
      "\n"
     ]
    }
   ],
   "source": [
    "state_name.show(5)"
   ]
  },
  {
   "cell_type": "code",
   "execution_count": 30,
   "id": "26496358-4fd0-4dfa-97dd-be2ed9b90155",
   "metadata": {},
   "outputs": [],
   "source": [
    "state_name = state_name.withColumnRenamed(\"State\", \"state\").withColumnRenamed(\"Alpha code\", \"state_code\").select(col(\"state\"), col(\"state_code\"))\n",
    "df = df.withColumnRenamed(\"state\", \"state_code\")"
   ]
  },
  {
   "cell_type": "code",
   "execution_count": 31,
   "id": "29e0d76c-bc18-43ce-af4b-7418b1a2348e",
   "metadata": {},
   "outputs": [
    {
     "data": {
      "text/plain": [
       "DataFrame[Unnamed: 0: int, trans_date_trans_time: timestamp, pii_cc_num: string, merchant: string, category: string, amt: decimal(10,2), person_name: string, gender: string, street: string, city: string, state_code: string, zip: string, lat: decimal(7,4), long: decimal(7,4), city_pop: int, job: string, dob: date, trans_num: string, merch_lat: decimal(9,6), merch_long: decimal(9,6), is_fraud: boolean, merch_zipcode: string, merch_eff_time: timestamp, merch_last_update_time: timestamp, cc_bic: string, first: string, last: string, cc_num: string]"
      ]
     },
     "execution_count": 31,
     "metadata": {},
     "output_type": "execute_result"
    }
   ],
   "source": [
    "df_joined = df.alias(\"main\").join(broadcast(state_name).alias(\"lookup\"), \"state_code\", \"left\") \\\n",
    "            .select(\"main.*\", \"lookup.state\")\n",
    "\n",
    "df_joined.persist(StorageLevel.MEMORY_AND_DISK)\n",
    "df.unpersist()"
   ]
  },
  {
   "cell_type": "code",
   "execution_count": 32,
   "id": "c485f6b2-e466-4f70-b11d-c91220032113",
   "metadata": {},
   "outputs": [
    {
     "name": "stdout",
     "output_type": "stream",
     "text": [
      "-RECORD 0----------------------------------------------------------------------------------\n",
      " state_code             | KY                                                               \n",
      " Unnamed: 0             | 493806                                                           \n",
      " trans_date_trans_time  | 2019-08-04 02:41:57                                              \n",
      " pii_cc_num             | 4707867759656333                                                 \n",
      " merchant               | fraud_Torphy-Kertzmann                                           \n",
      " category               | health_fitness                                                   \n",
      " amt                    | 10.46                                                            \n",
      " person_name            | Susan Shah                                                       \n",
      " gender                 | F                                                                \n",
      " street                 | 9016 Jordan Bypass Apt. 516                                      \n",
      " city                   | Cranks                                                           \n",
      " zip                    | 40820                                                            \n",
      " lat                    | 36.7558                                                          \n",
      " long                   | -83.1838                                                         \n",
      " city_pop               | 581                                                              \n",
      " job                    | Psychologist, counselling                                        \n",
      " dob                    | 1967-02-04                                                       \n",
      " trans_num              | cd826a6c4885c80170628a80a09978cc                                 \n",
      " merch_lat              | 37.407375                                                        \n",
      " merch_long             | -83.864669                                                       \n",
      " is_fraud               | false                                                            \n",
      " merch_zipcode          | 40486                                                            \n",
      " merch_eff_time         | 2012-08-04 02:41:57                                              \n",
      " merch_last_update_time | 2012-08-04 02:41:57                                              \n",
      " cc_bic                 | AIABUS31                                                         \n",
      " first                  | Susan                                                            \n",
      " last                   | Shah                                                             \n",
      " cc_num                 | b72b3338da0c4b30c7647123824da6badeb23fb91e98a44d23cc60e1e4eb9b35 \n",
      " state                  | Kentucky                                                         \n",
      "only showing top 1 row\n",
      "\n"
     ]
    }
   ],
   "source": [
    "df_joined.show(1, truncate=False, vertical=True)"
   ]
  },
  {
   "cell_type": "markdown",
   "id": "a8767579-ade3-42c0-b79f-4d05abef96d9",
   "metadata": {},
   "source": [
    "### Saving into file"
   ]
  },
  {
   "cell_type": "code",
   "execution_count": 33,
   "id": "d1945791-daed-4bbd-b84f-e3f0777767e3",
   "metadata": {},
   "outputs": [
    {
     "name": "stdout",
     "output_type": "stream",
     "text": [
      "-RECORD 0----------------------------------------------------------------------------------\n",
      " Unnamed: 0             | 493806                                                           \n",
      " trans_date_trans_time  | 2019-08-04 02:41:57                                              \n",
      " cc_num                 | b72b3338da0c4b30c7647123824da6badeb23fb91e98a44d23cc60e1e4eb9b35 \n",
      " merchant               | fraud_Torphy-Kertzmann                                           \n",
      " category               | health_fitness                                                   \n",
      " amt                    | 10.46                                                            \n",
      " gender                 | F                                                                \n",
      " street                 | 9016 Jordan Bypass Apt. 516                                      \n",
      " city                   | Cranks                                                           \n",
      " state                  | Kentucky                                                         \n",
      " zip                    | 40820                                                            \n",
      " lat                    | 36.7558                                                          \n",
      " long                   | -83.1838                                                         \n",
      " city_pop               | 581                                                              \n",
      " job                    | Psychologist, counselling                                        \n",
      " dob                    | 1967-02-04                                                       \n",
      " trans_num              | cd826a6c4885c80170628a80a09978cc                                 \n",
      " merch_lat              | 37.407375                                                        \n",
      " merch_long             | -83.864669                                                       \n",
      " is_fraud               | false                                                            \n",
      " merch_zipcode          | 40486                                                            \n",
      " merch_eff_time         | 2012-08-04 02:41:57                                              \n",
      " merch_last_update_time | 2012-08-04 02:41:57                                              \n",
      " cc_bic                 | AIABUS31                                                         \n",
      " pii_cc_num             | 4707867759656333                                                 \n",
      "only showing top 1 row\n",
      "\n"
     ]
    },
    {
     "data": {
      "text/plain": [
       "DataFrame[Unnamed: 0: int, trans_date_trans_time: timestamp, cc_num: string, merchant: string, category: string, amt: decimal(10,2), gender: string, street: string, city: string, state: string, zip: string, lat: decimal(7,4), long: decimal(7,4), city_pop: int, job: string, dob: date, trans_num: string, merch_lat: decimal(9,6), merch_long: decimal(9,6), is_fraud: boolean, merch_zipcode: string, merch_eff_time: timestamp, merch_last_update_time: timestamp, cc_bic: string, pii_cc_num: string]"
      ]
     },
     "execution_count": 33,
     "metadata": {},
     "output_type": "execute_result"
    }
   ],
   "source": [
    "df_joined = df_joined.select(\n",
    "    col(\"Unnamed: 0\"),\n",
    "    col(\"trans_date_trans_time\"),\n",
    "    col(\"cc_num\"),\n",
    "    col(\"merchant\"),\n",
    "    col(\"category\"),\n",
    "    col(\"amt\"),\n",
    "    col(\"gender\"),\n",
    "    col(\"street\"),\n",
    "    col(\"city\"),\n",
    "    col(\"state\"),\n",
    "    col(\"zip\"),\n",
    "    col(\"lat\"),\n",
    "    col(\"long\"),\n",
    "    col(\"city_pop\"),\n",
    "    col(\"job\"),\n",
    "    col(\"dob\"),\n",
    "    col(\"trans_num\"),\n",
    "    col(\"merch_lat\"),\n",
    "    col(\"merch_long\"),\n",
    "    col(\"is_fraud\"),\n",
    "    col(\"merch_zipcode\"),\n",
    "    col(\"merch_eff_time\"),\n",
    "    col(\"merch_last_update_time\"),\n",
    "    col(\"cc_bic\"),\n",
    "    col(\"pii_cc_num\")\n",
    ")\n",
    "\n",
    "df_joined.show(1, truncate=False, vertical=True)\n",
    "\n",
    "df_joined.coalesce(1).write.mode(\"overwrite\").parquet('/home/jovyan/work/kaggle/output/')\n",
    "\n",
    "df_joined.unpersist()"
   ]
  },
  {
   "cell_type": "markdown",
   "id": "aef7aa7b-a8dc-4cdb-9d28-415bac23bf72",
   "metadata": {},
   "source": [
    "* A lot of persist() and unpersist() are used to avoid recomputation\n",
    "* Recomputation happens if actions such as count(), show(), and collect(), are triggered, "
   ]
  }
 ],
 "metadata": {
  "kernelspec": {
   "display_name": "Python 3 (ipykernel)",
   "language": "python",
   "name": "python3"
  },
  "language_info": {
   "codemirror_mode": {
    "name": "ipython",
    "version": 3
   },
   "file_extension": ".py",
   "mimetype": "text/x-python",
   "name": "python",
   "nbconvert_exporter": "python",
   "pygments_lexer": "ipython3",
   "version": "3.11.6"
  }
 },
 "nbformat": 4,
 "nbformat_minor": 5
}
